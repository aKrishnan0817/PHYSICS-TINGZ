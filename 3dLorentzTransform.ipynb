{
 "cells": [
  {
   "cell_type": "code",
   "execution_count": null,
   "metadata": {},
   "outputs": [],
   "source": [
    "import numpy as np\n",
    "import plotly.graph_objects as go"
   ]
  },
  {
   "cell_type": "code",
   "execution_count": null,
   "metadata": {},
   "outputs": [],
   "source": [
    "# Define the range for t, avoiding division by zero at t = ±1\n",
    "\n",
    "#change the 3rd value in the np.linspace to change the number of velocity points to try between -0.99 and 0.99\n",
    "velocity_values = np.linspace(-0.99, 0.99, 100)\n",
    "\n",
    "# Define the given values for x and t, similiary uncomment these and comment out pos_values and t_values to use these values(more granular BUT LAGGIER)\n",
    "#pos_values = np.linspace(-10, 10, 100)\n",
    "#t_values = np.linspace(-10, 10, 100)\n",
    "\n",
    "pos_values, t_values =  [x for x in range(-10, 10)],  [x for x in range(-10, 10)]\n",
    "fig = go.Figure()"
   ]
  },
  {
   "cell_type": "code",
   "execution_count": null,
   "metadata": {},
   "outputs": [],
   "source": [
    "# parametric curves for each (x, t) pair\n",
    "for x in pos_values:\n",
    "    for t in t_values:\n",
    "        x_values = (1 / np.sqrt(1 - velocity_values**2)) * (x - velocity_values * t)\n",
    "        y_values = velocity_values\n",
    "        z_values = (1 / np.sqrt(1 - velocity_values**2)) * (x * velocity_values + t)\n",
    "        \n",
    "        fig.add_trace(go.Scatter3d(\n",
    "            x=x_values, y=y_values, z=z_values,\n",
    "            mode='lines',\n",
    "            name=f'x={x}, t={t}'\n",
    "        ))\n",
    "\n",
    "fig.update_layout(\n",
    "    title=\"Lorentz Transformation of Position and Time by velocticy\",\n",
    "    scene=dict(\n",
    "        xaxis_title='Transformed X',\n",
    "        yaxis_title='Velocity(% of speef of light)',\n",
    "        zaxis_title='Transformed Time',\n",
    "        yaxis=dict(range=[-2, 2]),  \n",
    "        xaxis=dict(range=[-20, 20])  \n",
    "    ),\n",
    "    margin=dict(l=0, r=0, b=0, t=40)\n",
    ")\n",
    "\n",
    "# Show the figure\n",
    "fig.show()\n"
   ]
  },
  {
   "cell_type": "code",
   "execution_count": null,
   "metadata": {},
   "outputs": [],
   "source": []
  }
 ],
 "metadata": {
  "kernelspec": {
   "display_name": ".env",
   "language": "python",
   "name": ".env"
  },
  "language_info": {
   "codemirror_mode": {
    "name": "ipython",
    "version": 3
   },
   "file_extension": ".py",
   "mimetype": "text/x-python",
   "name": "python",
   "nbconvert_exporter": "python",
   "pygments_lexer": "ipython3",
   "version": "3.12.0"
  }
 },
 "nbformat": 4,
 "nbformat_minor": 2
}
