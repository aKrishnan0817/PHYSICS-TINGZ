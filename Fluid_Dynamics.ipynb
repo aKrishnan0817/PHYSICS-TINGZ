{
  "cells": [
    {
      "cell_type": "code",
      "execution_count": null,
      "metadata": {
        "id": "r1wRQneXYooX"
      },
      "outputs": [],
      "source": [
        "h = [20,19.5,19,18.9,18.5,18.2,18,17.5,17.2,16.9,16.5,\n",
        "     16.41,16.02,15.83,15.5,14.99,14.7,14.5,14.2,14,13.8,13.4,13,\n",
        "     12.8,12.7,12.3,12,11.9,11.5,11.1,10.9,10.6,10.4,10.1,10,9.8,\n",
        "     9.4,9,8.9,8.7,8.4,8.2,8.1,7.9,7.5,\n",
        "     7.4,7.1,6.9,6.7,6.4,6.3,6.1,6.1,6,5.7,5.4,5,4.9,4.8,\n",
        "     4.7,4.6,4.5,4.3,4.1,4,4,3.9,3.8,3.3,3.2,3.1,3,3,\n",
        "     2.9,2.8]"
      ]
    },
    {
      "cell_type": "code",
      "execution_count": null,
      "metadata": {},
      "outputs": [],
      "source": [
        "import matplotlib.pyplot as plt\n",
        "import numpy as np\n"
      ]
    },
    {
      "cell_type": "code",
      "execution_count": null,
      "metadata": {
        "id": "j-ZUJE74aB9U"
      },
      "outputs": [],
      "source": [
        "t =[]\n",
        "for i in range(len(h)):\n",
        "  t.append(i*3)"
      ]
    },
    {
      "cell_type": "code",
      "execution_count": null,
      "metadata": {
        "id": "8KfsIFLjtMbN"
      },
      "outputs": [],
      "source": [
        "import pandas as pd"
      ]
    },
    {
      "cell_type": "code",
      "execution_count": null,
      "metadata": {
        "id": "lj0xTkm-tOCh"
      },
      "outputs": [],
      "source": [
        "data= pd.DataFrame({'t':t,'h':h})"
      ]
    },
    {
      "cell_type": "code",
      "execution_count": null,
      "metadata": {
        "id": "sJQITD9StRLB"
      },
      "outputs": [],
      "source": [
        "#data.to_csv('pyhsicsFluidVeloctiyData-9.19.csv', index=False)"
      ]
    },
    {
      "cell_type": "code",
      "execution_count": null,
      "metadata": {
        "colab": {
          "base_uri": "https://localhost:8080/",
          "height": 542
        },
        "id": "5oOGtkpizhIV",
        "outputId": "76a56200-1a68-4fdd-987b-72800fce250d"
      },
      "outputs": [],
      "source": [
        "import plotly.graph_objs as go\n",
        "from sklearn.preprocessing import PolynomialFeatures\n",
        "from sklearn.linear_model import LinearRegression\n",
        "\n",
        "A1=10\n",
        "A2=1\n",
        "g=9.8\n",
        "\n",
        "# Sample data: x and y\n",
        "x = np.array(t).reshape(-1, 1)  # Reshape to make it 2D (required by sklearn)\n",
        "y = np.array(h)\n",
        "\n",
        "# Define the degree of the polynomial\n",
        "degree = 2\n",
        "\n",
        "# Create a PolynomialFeatures object and transform the input data\n",
        "poly = PolynomialFeatures(degree=degree)\n",
        "x_poly = poly.fit_transform(x)\n",
        "\n",
        "# Fit a linear regression model to the polynomial features\n",
        "model = LinearRegression()\n",
        "model.fit(x_poly, y)\n",
        "\n",
        "# Predict the y values using the fitted model\n",
        "y_fit = model.predict(x_poly)\n",
        "\n",
        "# Plot the original data points\n",
        "\n",
        "# Sort values for plotting a smooth curve\n",
        "x_fit = x\n",
        "x_fit_poly = poly.transform(x_fit)\n",
        "y_fit = model.predict(x_fit_poly)\n",
        "\n",
        "# Plot the fitted polynomial curve\n",
        "fig = go.Figure()\n",
        "\n",
        "# Add original data points as a scatter plot\n",
        "fig.add_trace(go.Scatter(\n",
        "    x=x.flatten(),\n",
        "    y=y,\n",
        "    mode='markers',\n",
        "    name='Data Points',\n",
        "    marker=dict(color='red', size=8)\n",
        "))\n",
        "\n",
        "# Add the fitted polynomial curve\n",
        "fig.add_trace(go.Scatter(\n",
        "    x=x_fit.flatten(),\n",
        "    y=y_fit,\n",
        "    mode='lines',\n",
        "    name=f'Polynomial Fit (degree={degree})',\n",
        "    line=dict(color='blue')\n",
        "))\n",
        "\n",
        "# Set the plot title and axis labels\n",
        "fig.update_layout(\n",
        "    title='Curve Fit to Height-Time Fluid Pressure Graph',\n",
        "    xaxis_title='X',\n",
        "    yaxis_title='Y',\n",
        "    showlegend=True\n",
        ")\n",
        "fig.show()\n",
        "\n"
      ]
    },
    {
      "cell_type": "code",
      "execution_count": null,
      "metadata": {
        "colab": {
          "base_uri": "https://localhost:8080/"
        },
        "id": "xx4cjdLc0rJZ",
        "outputId": "d999fd7a-f881-4608-c0fc-342c05df7d0c"
      },
      "outputs": [],
      "source": [
        "model.coef_  # Coefficients of the polynomial terms\n"
      ]
    },
    {
      "cell_type": "code",
      "execution_count": null,
      "metadata": {
        "colab": {
          "base_uri": "https://localhost:8080/"
        },
        "id": "JN7_NKNg0wEN",
        "outputId": "85b08752-51a6-4c57-c8d8-3353132665c0"
      },
      "outputs": [],
      "source": [
        "model.intercept_"
      ]
    },
    {
      "cell_type": "code",
      "execution_count": null,
      "metadata": {
        "id": "QeU14JK-YQ5z"
      },
      "outputs": [],
      "source": [
        "def predict(t):\n",
        "  A1= np.pi*(0.171**2)\n",
        "  A2= 158.76\n",
        "  g= 9.8*100\n",
        "  C = -2*(20**0.5)\n",
        "  return 0.25* ((A1/A2)*((2*g)**0.5)*t + C)**2"
      ]
    },
    {
      "cell_type": "code",
      "execution_count": null,
      "metadata": {
        "id": "-Xn5KLpvaLLn"
      },
      "outputs": [],
      "source": [
        "def real(t):\n",
        "  return 19.953587423103244 -0.11630151*t +0.00017288*t**2"
      ]
    },
    {
      "cell_type": "code",
      "execution_count": null,
      "metadata": {
        "colab": {
          "base_uri": "https://localhost:8080/"
        },
        "id": "wOq9h3pHZKL_",
        "outputId": "38c2b04e-bb64-47a6-ac77-ef4ac5f2a609"
      },
      "outputs": [],
      "source": [
        "predict(0)"
      ]
    },
    {
      "cell_type": "code",
      "execution_count": null,
      "metadata": {
        "colab": {
          "base_uri": "https://localhost:8080/"
        },
        "id": "XFJW-eASaYgW",
        "outputId": "eb604f18-71da-448c-c8bf-b9d504b1e7e8"
      },
      "outputs": [],
      "source": [
        "real(0)"
      ]
    },
    {
      "cell_type": "code",
      "execution_count": null,
      "metadata": {
        "colab": {
          "base_uri": "https://localhost:8080/",
          "height": 542
        },
        "id": "uaV9lciPasQA",
        "outputId": "ae3ca715-ed91-4e9e-9ecc-777886995a01"
      },
      "outputs": [],
      "source": [
        "import numpy as np\n",
        "import plotly.graph_objs as go\n",
        "\n",
        "\n",
        "\n",
        "# Generate x values\n",
        "x = np.linspace(0, 225, 100)\n",
        "\n",
        "# Calculate y values for both functions\n",
        "y1 = []\n",
        "for i in x:\n",
        "  y1.append(predict(i))\n",
        "y1=np.array(y1)\n",
        "\n",
        "y2 = []\n",
        "for i in x:\n",
        "  y2.append(real(i))\n",
        "y2 = np.array(y2)\n",
        "\n",
        "# Calculate the error (absolute error)\n",
        "error = np.abs(y2-y1)\n",
        "\n",
        "# Create the plot using Plotly\n",
        "fig = go.Figure()\n",
        "\n",
        "# Add the first function plot\n",
        "fig.add_trace(go.Scatter(\n",
        "    x=x,\n",
        "    y=y1,\n",
        "    mode='lines',\n",
        "    name='Pred',\n",
        "    line=dict(color='blue')\n",
        "))\n",
        "\n",
        "# Add the second function plot\n",
        "fig.add_trace(go.Scatter(\n",
        "    x=x,\n",
        "    y=y2,\n",
        "    mode='lines',\n",
        "    name='Real',\n",
        "    line=dict(color='green')\n",
        "))\n",
        "\n",
        "# Plot the error between the functions\n",
        "fig.add_trace(go.Scatter(\n",
        "    x=x,\n",
        "    y=error,\n",
        "    mode='lines+markers',\n",
        "    name='Error: Real, Pred',\n",
        "    line=dict(color='red', dash='dash')\n",
        "))\n",
        "\n",
        "# Customize the layout\n",
        "fig.update_layout(\n",
        "    title='Error Between Two Functions',\n",
        "    xaxis_title='X',\n",
        "    yaxis_title='Y / Error',\n",
        "    showlegend=True\n",
        ")\n",
        "\n",
        "# Show the plot\n",
        "fig.show()\n"
      ]
    },
    {
      "cell_type": "code",
      "execution_count": null,
      "metadata": {
        "colab": {
          "base_uri": "https://localhost:8080/"
        },
        "id": "pXuAxiV-cBxC",
        "outputId": "9d7a604b-a6bd-40c6-da27-477a4b3b7f6a"
      },
      "outputs": [],
      "source": [
        "#MAE between real and pred\n",
        "np.mean(error)"
      ]
    }
  ],
  "metadata": {
    "colab": {
      "provenance": []
    },
    "kernelspec": {
      "display_name": ".env",
      "language": "python",
      "name": ".env"
    },
    "language_info": {
      "codemirror_mode": {
        "name": "ipython",
        "version": 3
      },
      "file_extension": ".py",
      "mimetype": "text/x-python",
      "name": "python",
      "nbconvert_exporter": "python",
      "pygments_lexer": "ipython3",
      "version": "3.12.0"
    }
  },
  "nbformat": 4,
  "nbformat_minor": 0
}
